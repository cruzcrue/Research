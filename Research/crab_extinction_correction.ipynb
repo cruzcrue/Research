{
 "cells": [
  {
   "cell_type": "code",
   "execution_count": 4,
   "metadata": {},
   "outputs": [],
   "source": [
    "import os\n",
    "import sys, math\n",
    "os.environ['DUST_DIR']= '/Users/elviracruz/DUST_DIR/'\n",
    "import mwdust"
   ]
  },
  {
   "cell_type": "code",
   "execution_count": 5,
   "metadata": {},
   "outputs": [],
   "source": [
    "import subprocess, shutil\n",
    "import datetime\n",
    "import numpy as np\n",
    "import scipy.stats as sts\n",
    "import astropy.units as u\n",
    "from astropy.coordinates import SkyCoord"
   ]
  },
  {
   "cell_type": "code",
   "execution_count": 6,
   "metadata": {},
   "outputs": [],
   "source": [
    "#print(\"reading dust maps\")\n",
    "\n",
    "#drimmel= mwdust.Drimmel03(filter='2MASS H')\n",
    "#combined= mwdust.Combined15(filter='2MASS H')\n",
    "#sfd= mwdust.SFD(filter='2MASS H')\n",
    "combined19= mwdust.Combined19(filter='CTIO V')\n",
    "#call with no filter gives E(B-V) on the SFD scale\n",
    "#combined19= mwdust.Combined19()"
   ]
  },
  {
   "cell_type": "code",
   "execution_count": 7,
   "metadata": {},
   "outputs": [
    {
     "ename": "FileNotFoundError",
     "evalue": "[Errno 2] No such file or directory: '-f'",
     "output_type": "error",
     "traceback": [
      "\u001b[0;31m---------------------------------------------------------------------------\u001b[0m",
      "\u001b[0;31mFileNotFoundError\u001b[0m                         Traceback (most recent call last)",
      "\u001b[0;32m<ipython-input-7-43358eb682d3>\u001b[0m in \u001b[0;36m<module>\u001b[0;34m\u001b[0m\n\u001b[1;32m      1\u001b[0m \u001b[0minfile1\u001b[0m \u001b[0;34m=\u001b[0m \u001b[0msys\u001b[0m\u001b[0;34m.\u001b[0m\u001b[0margv\u001b[0m\u001b[0;34m[\u001b[0m\u001b[0;36m1\u001b[0m\u001b[0;34m]\u001b[0m\u001b[0;34m\u001b[0m\u001b[0;34m\u001b[0m\u001b[0m\n\u001b[0;32m----> 2\u001b[0;31m \u001b[0mf\u001b[0m \u001b[0;34m=\u001b[0m \u001b[0mopen\u001b[0m\u001b[0;34m(\u001b[0m\u001b[0minfile1\u001b[0m\u001b[0;34m,\u001b[0m\u001b[0;34m\"r\"\u001b[0m\u001b[0;34m)\u001b[0m\u001b[0;34m\u001b[0m\u001b[0;34m\u001b[0m\u001b[0m\n\u001b[0m\u001b[1;32m      3\u001b[0m \u001b[0mdata\u001b[0m \u001b[0;34m=\u001b[0m \u001b[0mf\u001b[0m\u001b[0;34m.\u001b[0m\u001b[0mreadlines\u001b[0m\u001b[0;34m(\u001b[0m\u001b[0;34m)\u001b[0m\u001b[0;34m\u001b[0m\u001b[0;34m\u001b[0m\u001b[0m\n\u001b[1;32m      4\u001b[0m \u001b[0mf\u001b[0m\u001b[0;34m.\u001b[0m\u001b[0mclose\u001b[0m\u001b[0;34m(\u001b[0m\u001b[0;34m)\u001b[0m\u001b[0;34m\u001b[0m\u001b[0;34m\u001b[0m\u001b[0m\n\u001b[1;32m      5\u001b[0m \u001b[0;34m\u001b[0m\u001b[0m\n",
      "\u001b[0;31mFileNotFoundError\u001b[0m: [Errno 2] No such file or directory: '-f'"
     ]
    }
   ],
   "source": [
    "infile1 = sys.argv[1]\n",
    "f = open(infile1,\"r\")\n",
    "data = f.readlines()\n",
    "f.close()\n",
    "\n",
    "for line in data:\n",
    "    #print(line)\n",
    "    vector = line.split()\n",
    "    ra     = float(vector[0])\n",
    "    dec    = float(vector[1])\n",
    "    dist   = float(vector[2])\n",
    "    j2000  = SkyCoord(ra=ra,dec=dec,unit='deg',frame='fk5',equinox='J2000')\n",
    "    j2000.transform_to('galactic')\n",
    "    l      = j2000.galactic.l.degree\n",
    "    b      = j2000.galactic.b.degree\n",
    "    # convert to E(B-V) on an R_V=3.1 scale\n",
    "    # this is the V band extinction.\n",
    "    ebv    = combined19(l,b,dist)/3.1\n",
    "print('%13.6f %13.6f %13.6f %13.6f %13.6f %13.6f' %\n",
    "      (ebv,ra,dec,dist,l,b))"
   ]
  },
  {
   "cell_type": "code",
   "execution_count": 8,
   "metadata": {},
   "outputs": [
    {
     "ename": "FileNotFoundError",
     "evalue": "[Errno 2] No such file or directory: '-f'",
     "output_type": "error",
     "traceback": [
      "\u001b[0;31m---------------------------------------------------------------------------\u001b[0m",
      "\u001b[0;31mFileNotFoundError\u001b[0m                         Traceback (most recent call last)",
      "\u001b[0;32m<ipython-input-8-ed50258a20ff>\u001b[0m in \u001b[0;36m<module>\u001b[0;34m\u001b[0m\n\u001b[1;32m     21\u001b[0m \u001b[0;34m\u001b[0m\u001b[0m\n\u001b[1;32m     22\u001b[0m \u001b[0minfile1\u001b[0m \u001b[0;34m=\u001b[0m \u001b[0msys\u001b[0m\u001b[0;34m.\u001b[0m\u001b[0margv\u001b[0m\u001b[0;34m[\u001b[0m\u001b[0;36m1\u001b[0m\u001b[0;34m]\u001b[0m\u001b[0;34m\u001b[0m\u001b[0;34m\u001b[0m\u001b[0m\n\u001b[0;32m---> 23\u001b[0;31m \u001b[0mf\u001b[0m \u001b[0;34m=\u001b[0m \u001b[0mopen\u001b[0m\u001b[0;34m(\u001b[0m\u001b[0minfile1\u001b[0m\u001b[0;34m,\u001b[0m\u001b[0;34m\"r\"\u001b[0m\u001b[0;34m)\u001b[0m\u001b[0;34m\u001b[0m\u001b[0;34m\u001b[0m\u001b[0m\n\u001b[0m\u001b[1;32m     24\u001b[0m \u001b[0mdata\u001b[0m \u001b[0;34m=\u001b[0m \u001b[0mf\u001b[0m\u001b[0;34m.\u001b[0m\u001b[0mreadlines\u001b[0m\u001b[0;34m(\u001b[0m\u001b[0;34m)\u001b[0m\u001b[0;34m\u001b[0m\u001b[0;34m\u001b[0m\u001b[0m\n\u001b[1;32m     25\u001b[0m \u001b[0mf\u001b[0m\u001b[0;34m.\u001b[0m\u001b[0mclose\u001b[0m\u001b[0;34m(\u001b[0m\u001b[0;34m)\u001b[0m\u001b[0;34m\u001b[0m\u001b[0;34m\u001b[0m\u001b[0m\n",
      "\u001b[0;31mFileNotFoundError\u001b[0m: [Errno 2] No such file or directory: '-f'"
     ]
    }
   ],
   "source": [
    "#! /usr/bin/env python\n",
    "\n",
    "import subprocess, shutil\n",
    "import datetime\n",
    "import os, sys, math\n",
    "import numpy as np\n",
    "import scipy.stats as sts\n",
    "import astropy.units as u\n",
    "from astropy.coordinates import SkyCoord\n",
    "\n",
    "import mwdust\n",
    "\n",
    "#print(\"reading dust maps\")\n",
    "\n",
    "#drimmel= mwdust.Drimmel03(filter='2MASS H')\n",
    "#combined= mwdust.Combined15(filter='2MASS H')\n",
    "#sfd= mwdust.SFD(filter='2MASS H')\n",
    "combined19= mwdust.Combined19(filter='CTIO V')\n",
    "#call with no filter gives E(B-V) on the SFD scale\n",
    "#combined19= mwdust.Combined19()\n",
    "\n",
    "infile1 = sys.argv[1]\n",
    "f = open(infile1,\"r\")\n",
    "data = f.readlines()\n",
    "f.close()\n",
    "\n",
    "for line in data:\n",
    "    #print(line)\n",
    "    vector = line.split()\n",
    "    ra     = float(vector[0])\n",
    "    dec    = float(vector[1])\n",
    "    dist   = float(vector[2])\n",
    "    j2000  = SkyCoord(ra=ra,dec=dec,unit='deg',frame='fk5',equinox='J2000')\n",
    "    j2000.transform_to('galactic')\n",
    "    l      = j2000.galactic.l.degree\n",
    "    b      = j2000.galactic.b.degree\n",
    "    # convert to E(B-V) on an R_V=3.1 scale\n",
    "    # this is the V band extinction.\n",
    "    ebv    = combined19(l,b,dist)/3.1\n",
    "print('%13.6f %13.6f %13.6f %13.6f %13.6f %13.6f' %\n",
    "      (ebv,ra,dec,dist,l,b))"
   ]
  },
  {
   "cell_type": "code",
   "execution_count": null,
   "metadata": {},
   "outputs": [],
   "source": []
  }
 ],
 "metadata": {
  "kernelspec": {
   "display_name": "Python 3",
   "language": "python",
   "name": "python3"
  },
  "language_info": {
   "codemirror_mode": {
    "name": "ipython",
    "version": 3
   },
   "file_extension": ".py",
   "mimetype": "text/x-python",
   "name": "python",
   "nbconvert_exporter": "python",
   "pygments_lexer": "ipython3",
   "version": "3.8.5"
  }
 },
 "nbformat": 4,
 "nbformat_minor": 4
}
