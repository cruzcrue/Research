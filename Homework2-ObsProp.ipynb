{
 "cells": [
  {
   "cell_type": "markdown",
   "metadata": {},
   "source": [
    "### Observed Properties of Astronomical Systems \n",
    "#### Homework 2 \n",
    "By Elvira Cruz-Cruz"
   ]
  },
  {
   "cell_type": "markdown",
   "metadata": {},
   "source": [
    "#### 1. Signal-to-Noise: An interesting object has been discovered with rAB = 22 mag and you would like to observe it further. Note that the SDSS r-band has $\\lambda_c = 0.626 \\mu m$, $d\\lambda = 0.1064 \\mu m$, and the zeropoint of the AB magnitude system is 3631 Jy. \n",
    "\n",
    "#### a. What is the flux zeropoint per unit wavelength $f_{\\lambda}$? PLease use $erg  s^{-1} cm^{-2} A^{-1}$"
   ]
  },
  {
   "cell_type": "code",
   "execution_count": 1,
   "metadata": {},
   "outputs": [
    {
     "name": "stdout",
     "output_type": "stream",
     "text": [
      "2.7778526880952136e-09 erg s^-1 cm^-2 A^-1\n"
     ]
    }
   ],
   "source": [
    "f_mu = 3631*1.e-23 #Jansky converted to erg s^-1 cm^-2 Hz^-1\n",
    "c = 2.998e10 # in cm/s\n",
    "lambdaa_c = 0.626*1.e-4 #micrometer converted to cm\n",
    "f_lambda = (f_mu*c)/lambdaa_c**2\n",
    "f_lambda_ang = f_lambda*1.e-8 #converted one of the cm to angstroms \n",
    "print(f_lambda_ang , 'erg s^-1 cm^-2 A^-1')"
   ]
  },
  {
   "cell_type": "markdown",
   "metadata": {},
   "source": [
    "#### b. What is the zeropoint in photons $s^{-1} cm^{-2} A^{-1}$ ?\n"
   ]
  },
  {
   "cell_type": "code",
   "execution_count": 2,
   "metadata": {},
   "outputs": [
    {
     "name": "stdout",
     "output_type": "stream",
     "text": [
      "energy of a photon 3.1733159712332272e-12\n",
      "875.3785356633342 s^-1 cm^-2 A^-1\n"
     ]
    }
   ],
   "source": [
    "# 1 erg = cm^2 g s^-2\n",
    "h = 6.62607004e-34*1.e4*1.e3 #m^2 kg/s to cm^2 g/s\n",
    "energy_photon = (h*c)/lambdaa_c #cm^2 g s^-2 \n",
    "print('energy of a photon',energy_photon)\n",
    "\n",
    "flux_photons = f_lambda_ang/energy_photon\n",
    "print(flux_photons, 's^-1 cm^-2 A^-1')"
   ]
  },
  {
   "cell_type": "markdown",
   "metadata": {},
   "source": [
    "#### c. How many r-band photons are incident on one of the LBT's 8.4m diameter primary mirrors per second? Ignore atmospheric absorption.\n"
   ]
  },
  {
   "cell_type": "code",
   "execution_count": 3,
   "metadata": {},
   "outputs": [
    {
     "name": "stdout",
     "output_type": "stream",
     "text": [
      "4.4023337283651016e-18 erg s^-1 cm^-2 A^-1\n",
      "energy of a photon= 1.86700732893985e-11\n",
      "\n",
      "2.3579627461156757e-07 s^-1 cm^-2 A^-1\n",
      "\n",
      "r-band photons per sec  818.0120966689833\n"
     ]
    }
   ],
   "source": [
    "import numpy as np \n",
    "\n",
    "m_AB = 22 #mag\n",
    "\n",
    "flux_mu = 10**((m_AB + 48.60)/(-2.5)) #erg s^-1 cm^-2 Hz^-1\n",
    "c = 2.998e10 # in cm/s\n",
    "lambdaa_c = 0.626*1.e-4 #micrometer converted to cm\n",
    "f_lambda2 = (flux_mu*c)/lambdaa_c**2\n",
    "f_lambda_ang2 = f_lambda2*1.e-8 #converted one of the cm to angstroms \n",
    "print(f_lambda_ang2 , 'erg s^-1 cm^-2 A^-1')\n",
    "\n",
    "\n",
    "dlambdaa_c = 0.1064*1.e-4 #micrometer converted to cm\n",
    "\n",
    "\n",
    "\n",
    "h = 6.62607004e-34*1.e4*1.e3 #m^2 kg/s to cm^2 g/s\n",
    "energy_photon = (h*c)/dlambdaa_c #cm^2 g s^-2 \n",
    "print('energy of a photon=',energy_photon)\n",
    "print()\n",
    "flux_mu2 = f_lambda_ang2/energy_photon\n",
    "print(flux_mu2, 's^-1 cm^-2 A^-1')\n",
    "print()\n",
    "\n",
    "area_lbt = np.pi*(((8.4*100)/2)**2) #cm^2\n",
    "dlambdaa_A = lambdaa_c*1.e8 #cm converted to Angstrom \n",
    "rband_photons = flux_mu2*area_lbt*dlambdaa_A\n",
    "print('r-band photons per sec ', rband_photons )"
   ]
  },
  {
   "cell_type": "markdown",
   "metadata": {},
   "source": [
    "#### d. Read through the online MODS1 Instrumental Sensitivity document. Use those data to calculate the ADU/s expected from this object in imaging mode. Assume airmass X=1.\n",
    "\n"
   ]
  },
  {
   "cell_type": "code",
   "execution_count": 4,
   "metadata": {},
   "outputs": [
    {
     "name": "stdout",
     "output_type": "stream",
     "text": [
      "113.76272858234299  ADU/s\n"
     ]
    }
   ],
   "source": [
    "m_ABr0 = 27.24\n",
    "K_r = 0.10\n",
    "X = 1\n",
    "\n",
    "adu_s = 10**((m_AB - m_ABr0 + (K_r*X))/(-2.5))\n",
    "\n",
    "print(adu_s,' ADU/s')"
   ]
  },
  {
   "cell_type": "markdown",
   "metadata": {},
   "source": [
    "#### e. Use your results from (c) and (d) to estimate the total system throughput (atmosphere + telescope + instrument). Identify and provide a quantitative discussion of the main contributors to the throughput. A short paragraph should suffice.\n"
   ]
  },
  {
   "cell_type": "code",
   "execution_count": 5,
   "metadata": {},
   "outputs": [
    {
     "name": "stdout",
     "output_type": "stream",
     "text": [
      "7.19051052012079\n",
      "13.907218370681163 %\n"
     ]
    }
   ],
   "source": [
    "throughput = rband_photons/adu_s #The number of photons that are actually read by the detector\n",
    "print(throughput)\n",
    "throughput_percent = (1/throughput)\n",
    "print(throughput_percent*100,'%')"
   ]
  },
  {
   "cell_type": "markdown",
   "metadata": {},
   "source": [
    "Throughput is the total amount of photons that are actually read by the detector. In this case about 13.9% of the photons that go through the telescope actually reach the detector. Influences to this percentage are atmospheric conditions, such as sky brackground noise, the readout noise of the instrument and the size of the telescope, including its seeing ability, or radius aperature."
   ]
  },
  {
   "cell_type": "markdown",
   "metadata": {},
   "source": [
    "#### f. How long do you need to integrate to achieve about S/N = 10 per pixel? Ignore sky brightness. \n"
   ]
  },
  {
   "cell_type": "code",
   "execution_count": 6,
   "metadata": {},
   "outputs": [
    {
     "name": "stdout",
     "output_type": "stream",
     "text": [
      "1.0540767581474397 sec\n",
      "6200.0\n"
     ]
    }
   ],
   "source": [
    "SNR_3 = 10 #per pixel\n",
    "N_r = 2.5 # e-\n",
    "A_tel = np.pi*(((8.4*100)/2)**2)\n",
    "eta =throughput\n",
    "\n",
    "s_sqrt = SNR_3**4 +(4*N_r**2*SNR_3**2)\n",
    "S = ((-SNR_3**2) + s_sqrt)/2 \n",
    "t_int = S/(flux_mu2*A_tel*dlambdaa_A*eta)\n",
    "print(t_int,'sec')\n",
    "print(S)\n"
   ]
  },
  {
   "cell_type": "markdown",
   "metadata": {},
   "source": [
    "##### g. It is near full moon so the sky brightness is rAB = 21 mag per arcsec^2. The seeing is 1”, so you have chosen a 1.5” radius aperture. What is the S/N in 10s? \n"
   ]
  },
  {
   "cell_type": "code",
   "execution_count": 7,
   "metadata": {},
   "outputs": [],
   "source": [
    "m_ABr0 = 27.24\n",
    "K_r = 0.10\n",
    "X = 1\n",
    "m_rAB = 21\n",
    "adu_s5 = 10**((m_rAB - m_ABr0 + (K_r*X))/(-2.5))\n",
    "\n",
    "#print(adu_s5,' ADU/s')\n",
    "\n",
    "flux_mu5 = 10**((m_rAB + 48.60)/(-2.5)) #erg s^-1 cm^-2 Hz^-1\n",
    "c = 2.998e10 # in cm/s\n",
    "lambdaa_c5 = 0.626*1.e-4 #micrometer converted to cm\n",
    "f_lambda5 = (flux_mu5*c)/lambdaa_c5**2\n",
    "f_lambda_ang5 = f_lambda5*1.e-8 #converted one of the cm to angstroms \n",
    "#print(f_lambda_ang5 , 'erg s^-1 cm^-2 A^-1')\n",
    "\n",
    "\n",
    "dlambdaa_c5 = 0.1064*1.e-4 #micrometer converted to cm\n",
    "\n",
    "\n",
    "\n",
    "h = 6.62607004e-34*1.e4*1.e3 #m^2 kg/s to cm^2 g/s\n",
    "energy_photon5 = (h*c)/dlambdaa_c5 #cm^2 g s^-2 \n",
    "#print('energy of a photon=',energy_photon5)\n",
    "#print()\n",
    "flux_mu5 = f_lambda_ang5/energy_photon5\n",
    "#print(flux_mu5, 's^-1 cm^-2 A^-1')\n",
    "#print()\n",
    "\n",
    "area_lbt5 = np.pi*(((8.4*100)/2)**2) #cm^2\n",
    "dlambdaa_A5 = lambdaa_c5*1.e8 #cm converted to Angstrom \n",
    "rband_photons5 = flux_mu5*area_lbt5*dlambdaa_A5\n",
    "#print('r-band photons per sec ', rband_photons5 )\n",
    "\n",
    "throughput5 = rband_photons5/adu_s5 #The number of photons that are actually read by the detector\n",
    "#print(throughput5)\n",
    "throughput_percent5 = (1/throughput5)\n",
    "#print(throughput_percent5*100,'%')\n"
   ]
  },
  {
   "cell_type": "code",
   "execution_count": 8,
   "metadata": {},
   "outputs": [
    {
     "name": "stdout",
     "output_type": "stream",
     "text": [
      "Signal-to-Noise= 9.782747075514013 per pixel\n"
     ]
    }
   ],
   "source": [
    "m_rAB = 21 #mag per arcsec^2\n",
    "\n",
    "flux_mu3 = 10**((m_rAB + 48.60)/(-2.5)) #erg s^-1 cm^-2 Hz^-1\n",
    "c = 2.998e10 # in cm/s\n",
    "lambdaa_c = 0.626*1.e-4 #micrometer converted to cm\n",
    "f_lambda3 = (flux_mu3*c)/lambdaa_c**2\n",
    "f_lambda_ang3 = f_lambda3*1.e-8 #converted one of the cm to angstroms \n",
    "#print(f_lambda_ang3 , 'erg s^-1 cm^-2 A^-1')\n",
    "\n",
    "\n",
    "dlambdaa_c3 = 0.1064*1.e-4*1.e8 #micrometer converted to Angstrom\n",
    "\n",
    "\n",
    "\n",
    "h = 6.62607004e-34*1.e4*1.e3 #m^2 kg/s to cm^2 g/s\n",
    "energy_photon3 = (h*c)/lambdaa_c #cm^2 g s^-2 \n",
    "#print('energy of a photon=',energy_photon3)\n",
    "#print()\n",
    "flux_mu4 = f_lambda_ang3/energy_photon3\n",
    "#print('flux of sky background',flux_mu4, 's^-1 cm^-2 A^-1 arcsec^-2')\n",
    "#print()\n",
    "\n",
    "flux_star_lambda = flux_mu2\n",
    "t_int2 = 10 #sec\n",
    "A_tel2 = np.pi*(((8.4*100)/2)**2) # area in cm^2\n",
    "delta_lambda2 = dlambdaa_c3\n",
    "eta2 = throughput5\n",
    "flux_sky_lambda = flux_mu4\n",
    "delta_omega = np.pi*(1.5**2) # arcsec^2\n",
    "\n",
    "SNR_4 = flux_star_lambda*((np.sqrt(t_int2*A_tel2*delta_lambda2*eta2))/(np.sqrt(flux_sky_lambda*delta_omega)))\n",
    "print('Signal-to-Noise=',SNR_4, 'per pixel')\n"
   ]
  },
  {
   "cell_type": "markdown",
   "metadata": {},
   "source": [
    "##### h. Under these sky conditions, how long do you need to integrate to achieve the same S/N ratio you originally estimated in part (f)?\n"
   ]
  },
  {
   "cell_type": "code",
   "execution_count": 9,
   "metadata": {},
   "outputs": [
    {
     "name": "stdout",
     "output_type": "stream",
     "text": [
      "integration time 52.85165929453548 seconds\n"
     ]
    }
   ],
   "source": [
    "flux_sky_lambda = flux_mu4\n",
    "flux_star_lambda = flux_mu2\n",
    "delta_lambda3 = delta_lambda2\n",
    "eta3 = throughput_percent\n",
    "\n",
    "t_int3 = (SNR_4*flux_sky_lambda*delta_omega)/((flux_star_lambda**2)*A_tel2*delta_lambda3*eta3)\n",
    "print('integration time', t_int3, 'seconds')"
   ]
  },
  {
   "cell_type": "markdown",
   "metadata": {},
   "source": [
    "##### i. A week later you are able to obtain a spectrum with the dual grating mode under dark conditions (rAB = 22 mag per arcsec2). How long do you need to integrate to get S/N = 5 per pixel in your spectrum? Use the 1” slit and assume no slit losses. Round your exposure time to the nearest minute.\n"
   ]
  },
  {
   "cell_type": "code",
   "execution_count": 10,
   "metadata": {},
   "outputs": [],
   "source": [
    "m_rAB8 = 22 #mag per arcsec^2\n",
    "\n",
    "flux_mu8 = 10**((m_rAB8 + 48.60)/(-2.5)) #erg s^-1 cm^-2 Hz^-1\n",
    "c = 2.998e10 # in cm/s\n",
    "lambdaa_c8 = 0.626*1.e-4 #micrometer converted to cm\n",
    "f_lambda8 = (flux_mu8*c)/lambdaa_c8**2\n",
    "f_lambda_ang8 = f_lambda8*1.e-8 "
   ]
  },
  {
   "cell_type": "code",
   "execution_count": 11,
   "metadata": {},
   "outputs": [
    {
     "name": "stdout",
     "output_type": "stream",
     "text": [
      "4.787238761032607e-28\n"
     ]
    }
   ],
   "source": [
    "m_rAB7 = 22 #mag per arcsec^2\n",
    "lambdaa_dual = 6500 #angstroms\n",
    "flux_mu7_sky = 10**((-0.9608)-(0.4*m_rAB7)-(2*np.log(lambdaa_dual)))\n",
    "print(flux_mu7_sky)\n",
    "\n"
   ]
  },
  {
   "cell_type": "code",
   "execution_count": 12,
   "metadata": {},
   "outputs": [
    {
     "name": "stdout",
     "output_type": "stream",
     "text": [
      "8.392454871403379e+37\n"
     ]
    }
   ],
   "source": [
    "g= 2.5\n",
    "SNR_7 = 5\n",
    "sigma_ro7 = 2.5\n",
    "S_lambda = (-(SNR_7**2*g) + np.sqrt((SNR_7**4)*(g**2) - (4*g**2)*((-SNR_7**2)*(sigma_ro7**2))))/(2*g**2)\n",
    "X=1\n",
    "F_lambda = f_lambda_ang8\n",
    "S_lambda0 = 16.487\n",
    "K_lambda = 0.085\n",
    "\n",
    "t_exp7 = 10**(np.log(S_lambda)-np.log(S_lambda0)-np.log(F_lambda)+0.4*K_lambda*X)\n",
    "\n",
    "print(t_exp7)"
   ]
  },
  {
   "cell_type": "markdown",
   "metadata": {},
   "source": [
    "### 2. Data exploration with sciserver.org and SDSS. Use sciserver.org and a jupyter notebook to identify the following data and produce the following figures. You are encouraged to use published catalogs to help focus your search, just be sure to cite any references you use. "
   ]
  },
  {
   "cell_type": "markdown",
   "metadata": {},
   "source": [
    "#### a. Identify an open or globular cluster in the SDSS footprint and plot an r vs. g-r colormagnitude diagram for the cluster. Make sure you choose a cluster with an obvious main sequence and giant branch. "
   ]
  },
  {
   "cell_type": "code",
   "execution_count": 13,
   "metadata": {},
   "outputs": [],
   "source": [
    "%matplotlib inline\n",
    "\n",
    "from __future__ import division\n",
    "\n",
    "import numpy as np\n",
    "import pandas as pd\n",
    "from astropy import coordinates as coords\n",
    "from astroquery.sdss import SDSS\n",
    "%matplotlib inline\n",
    "import matplotlib.pyplot as plt\n"
   ]
  },
  {
   "cell_type": "code",
   "execution_count": 14,
   "metadata": {},
   "outputs": [],
   "source": [
    "#NGC 7078\n",
    "query = 'SELECT TOP 500                     \\\n",
    "            p.ra, p.dec, p.g, (p.g - p.r) as gmr, p.r, pmra, pmdec, pmraerr, pmdecerr, pml, pmb       \\\n",
    "        FROM star s             \\\n",
    "            JOIN propermotions pm ON s.objid = pm.objid            \\\n",
    "            JOIN PhotoObj p ON p.objid = pm.objid                  \\\n",
    "        WHERE                     \\\n",
    "            s.ra between 322.4958-0.04 and 322.4958+0.04           \\\n",
    "            AND s.dec between 12.1669-0.15 and 12.1669+0.15'        "
   ]
  },
  {
   "cell_type": "code",
   "execution_count": 15,
   "metadata": {},
   "outputs": [],
   "source": [
    "ngc_7078 = SDSS.query_sql(query, data_release=16, cache=True)"
   ]
  },
  {
   "cell_type": "code",
   "execution_count": 16,
   "metadata": {},
   "outputs": [
    {
     "data": {
      "image/png": "[encoded data removed]",
      "text/plain": [
       "<Figure size 288x432 with 1 Axes>"
      ]
     },
     "metadata": {
      "needs_background": "light"
     },
     "output_type": "display_data"
    }
   ],
   "source": [
    "mag_r = np.array(ngc_7078['r'])\n",
    "mag_gr = np.array(ngc_7078['gmr'])\n",
    "\n",
    "SMALL_SIZE = 14\n",
    "BIGGER_SIZE = 16\n",
    "plt.figure(figsize=(4,6))\n",
    "plt.rc('axes', titlesize=SMALL_SIZE) \n",
    "plt.rc('axes', labelsize=BIGGER_SIZE)\n",
    "plt.title('NGC 7078 - Globular Cluster')\n",
    "plt.ylim(22,14)\n",
    "plt.xlim(-0.5,1.5)\n",
    "plt.xlabel('$M_{G}-M_{R}$')\n",
    "plt.ylabel('$M_{R}$')\n",
    "plt.scatter(mag_gr,mag_r,color='black')\n",
    "plt.show()"
   ]
  },
  {
   "cell_type": "markdown",
   "metadata": {},
   "source": [
    "#### b. Identify an RR Lyrae star in the Stripe 82 region and plot a phased, g-band light curve based on SDSS photometry. I encourage you to identify and use a catalog of known RR Lyrae stars to choose one with a known period, although there is an implementation of the Lomb-Scargle algorithm within astropy.stats (and another in scipy). "
   ]
  },
  {
   "cell_type": "markdown",
   "metadata": {},
   "source": [
    "#### I went a bit over the 10 hour mark for this assignment. I spent a lot of time on part 1, that I wasn't able to finish this part b. I'm sorry, for not being able to fully complete part 2b. "
   ]
  },
  {
   "cell_type": "code",
   "execution_count": 18,
   "metadata": {},
   "outputs": [],
   "source": [
    "from astroML.datasets import fetch_sdss_spectrum\n",
    "from astroML.datasets import fetch_sdss_S82standards"
   ]
  },
  {
   "cell_type": "code",
   "execution_count": 50,
   "metadata": {},
   "outputs": [],
   "source": [
    "data = fetch_sdss_S82standards()  \n",
    "gmag = data['mmed_g']\n",
    "#print(data)"
   ]
  },
  {
   "cell_type": "code",
   "execution_count": null,
   "metadata": {},
   "outputs": [],
   "source": [
    "from astropy.timeseries import LombScargle\n",
    "import scipy.signal as signal\n",
    "\n",
    "A = 2\n",
    "w = 1.\n",
    "phi = 0.5 * np.pi\n",
    "x = np.linspace(0.01, 10*np.pi, len(gmag))\n",
    "y = A * np.sin(w*gmag+phi)\n",
    "f = np.linspace(0.01, 10, len(gmag))\n",
    "\n",
    "pgram = signal.lombscargle(x, gmag, f, normalize=True)\n",
    "plt.plot(x, gmag, 'b+')\n",
    "plt.plot(f, pgram)\n",
    "plt.show()"
   ]
  },
  {
   "cell_type": "markdown",
   "metadata": {},
   "source": [
    "#### c. Identify a cataclysmic variable star with an SDSS spectrum. Plot the spectrum and label several of the most prominent emission lines. "
   ]
  },
  {
   "cell_type": "markdown",
   "metadata": {},
   "source": [
    "#### V 405 (Cataclysmic Variable Star) In Pegasus Constellation \n",
    "I got the MJD-Plate-Fiber values for a cataclysmic variable star obtained with SDSS from this article:\n",
    "https://iopscience.iop.org/article/10.1088/0004-6256/142/6/181\n",
    "I also found the name of this Cataclysmic Variable star by inputing the RA and DEC into the SIMDAD Data base. The results to the basic query I ran on SIMDAD is as follows: http://simbad.u-strasbg.fr/simbad/sim-id?Ident=%401472196&Name=V*%20V405%20Peg&submit=submit"
   ]
  },
  {
   "cell_type": "code",
   "execution_count": 19,
   "metadata": {},
   "outputs": [],
   "source": [
    "# 23 09 49.12 +21 35 16.7\n",
    "mjd = 54328\n",
    "plate = 2623\n",
    "fiber = 193\n",
    "\n",
    "spec = fetch_sdss_spectrum(plate, mjd, fiber)"
   ]
  },
  {
   "cell_type": "code",
   "execution_count": 47,
   "metadata": {},
   "outputs": [
    {
     "data": {
      "image/png": "[encoded data removed]",
      "text/plain": [
       "<Figure size 432x288 with 1 Axes>"
      ]
     },
     "metadata": {
      "needs_background": "light"
     },
     "output_type": "display_data"
    }
   ],
   "source": [
    "ax = plt.axes()\n",
    "ax.plot(spec.wavelength(), spec.spectrum, '-k', label='spectrum')\n",
    "ax.plot(spec.wavelength(), spec.error, '-', color='gray', label='error')\n",
    "ax.plot(4350, 400, 'b+', color='blue', label='$H_{g}$')\n",
    "ax.plot(6550, 400, 'b+', color='green', label='$H alpha$')\n",
    "ax.plot(4850, 400, 'b+', color='yellow', label='$H beta$')\n",
    "ax.plot(5850, 200, 'b+', color='red', label='$He$')\n",
    "ax.legend(loc=4)\n",
    "\n",
    "ax.set_title('Plate = %(plate)i, MJD = %(mjd)i, Fiber = %(fiber)i' % locals())\n",
    "\n",
    "ax.text(0.05, 0.95, 'z = %.2f' % spec.z, size=16,\n",
    "        ha='left', va='top', transform=ax.transAxes)\n",
    "\n",
    "ax.set_xlabel(r'$\\lambda (\\AA)$')\n",
    "ax.set_ylabel('Flux')\n",
    "\n",
    "plt.show()\n"
   ]
  },
  {
   "cell_type": "code",
   "execution_count": null,
   "metadata": {},
   "outputs": [],
   "source": []
  }
 ],
 "metadata": {
  "kernelspec": {
   "display_name": "Python 3",
   "language": "python",
   "name": "python3"
  },
  "language_info": {
   "codemirror_mode": {
    "name": "ipython",
    "version": 3
   },
   "file_extension": ".py",
   "mimetype": "text/x-python",
   "name": "python",
   "nbconvert_exporter": "python",
   "pygments_lexer": "ipython3",
   "version": "3.8.5"
  }
 },
 "nbformat": 4,
 "nbformat_minor": 4
}
