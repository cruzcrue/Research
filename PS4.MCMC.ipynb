{
 "cells": [
  {
   "cell_type": "markdown",
   "metadata": {},
   "source": [
    "# Astronomy 8824 - Problem Set 4\n",
    "The goal of this problem set is to gain familiarity with multivariate Gaussians and Markov Chain Monte Carlo\n",
    "\n",
    "This problem set was developed by David Weinberg, with some modifications by Paul Martini."
   ]
  },
  {
   "cell_type": "code",
   "execution_count": 1,
   "metadata": {},
   "outputs": [
    {
     "name": "stdout",
     "output_type": "stream",
     "text": [
      "Requirement already satisfied: corner in /users/PCON0003/cond0014/.local/lib/python3.7/site-packages (2.2.1)\n",
      "Requirement already satisfied: matplotlib>=2.1 in /apps/python/3.7-2019.10/lib/python3.7/site-packages (from corner) (3.1.1)\n",
      "Requirement already satisfied: cycler>=0.10 in /apps/python/3.7-2019.10/lib/python3.7/site-packages (from matplotlib>=2.1->corner) (0.10.0)\n",
      "Requirement already satisfied: kiwisolver>=1.0.1 in /apps/python/3.7-2019.10/lib/python3.7/site-packages (from matplotlib>=2.1->corner) (1.1.0)\n",
      "Requirement already satisfied: pyparsing!=2.0.4,!=2.1.2,!=2.1.6,>=2.0.1 in /apps/python/3.7-2019.10/lib/python3.7/site-packages (from matplotlib>=2.1->corner) (2.4.2)\n",
      "Requirement already satisfied: python-dateutil>=2.1 in /apps/python/3.7-2019.10/lib/python3.7/site-packages (from matplotlib>=2.1->corner) (2.8.0)\n",
      "Requirement already satisfied: numpy>=1.11 in /apps/python/3.7-2019.10/lib/python3.7/site-packages (from matplotlib>=2.1->corner) (1.17.2)\n",
      "Requirement already satisfied: six in /apps/python/3.7-2019.10/lib/python3.7/site-packages (from cycler>=0.10->matplotlib>=2.1->corner) (1.12.0)\n",
      "Requirement already satisfied: setuptools in /apps/python/3.7-2019.10/lib/python3.7/site-packages (from kiwisolver>=1.0.1->matplotlib>=2.1->corner) (41.4.0)\n"
     ]
    }
   ],
   "source": [
    "# Install the corner module to make some of the plots\n",
    "! pip install corner --user"
   ]
  },
  {
   "cell_type": "code",
   "execution_count": 2,
   "metadata": {},
   "outputs": [],
   "source": [
    "import numpy as np\n",
    "%matplotlib inline\n",
    "from numpy import matrix\n",
    "from numpy import linalg\n",
    "import matplotlib.pyplot as plt\n",
    "from matplotlib.gridspec import GridSpec\n",
    "import corner\n",
    "\n",
    "# matplotlib settings \n",
    "SMALL_SIZE = 14\n",
    "MEDIUM_SIZE = 16\n",
    "BIGGER_SIZE = 18\n",
    "\n",
    "plt.rc('font', size=SMALL_SIZE)          # controls default text sizes\n",
    "plt.rc('axes', titlesize=SMALL_SIZE)     # fontsize of the axes title\n",
    "plt.rc('axes', labelsize=BIGGER_SIZE)    # fontsize of the x and y labels\n",
    "plt.rc('lines', linewidth=2)\n",
    "plt.rc('axes', linewidth=2)\n",
    "plt.rc('xtick', labelsize=MEDIUM_SIZE)    # fontsize of the tick labels\n",
    "plt.rc('ytick', labelsize=MEDIUM_SIZE)    # fontsize of the tick labels\n",
    "plt.rc('legend', fontsize=MEDIUM_SIZE)    # legend fontsize\n",
    "plt.rc('figure', titlesize=BIGGER_SIZE)   # fontsize of the figure title"
   ]
  },
  {
   "cell_type": "markdown",
   "metadata": {},
   "source": [
    "## 1. Bivariate Gaussian\n",
    "\n",
    "Generate 5000 random data pairs (p1, p2) where p1 and p2 are drawn independently from Gaussians of standard deviation σ1 = 2 and σ2 = 0.5, respectively (with mean zero). Use the python routine np.random.normal().\n",
    "\n",
    "Compute new data pairs (x, y) with x = p1 cos α − p2 sin α and y = p1 sin α + p2 cos α for α = π/6.\n",
    "\n",
    "Plot these two distributions (e.g., as tiny dots with different colors) over the top of each other, and plot as x- and y-axis histograms the marginal distributions of p1, p2, x, and y.\n",
    "\n",
    "Using equations 3.85 - 3.87 of Ivezic et al., compute the expected values of $\\sigma_X$, $\\sigma_Y$, and $\\sigma_{XY}$. Are the marginal distributions for x and y in your plot Gaussians with the expected widths? Overplot Gaussians for comparison.\n",
    "\n",
    "What is the covariance matrix of (x, y)? Compute this analytically, though it may be useful to compare it to your numerical estimate.\n",
    "\n",
    "Draw 5000 random data pairs from a bivariate Gaussian with this covariance matrix using np.random.multivariate_normal().\n",
    "\n",
    "Compare this distribution and the marginal distributions of x and y to the ones you got by your previous procedure and comment on the result."
   ]
  },
  {
   "cell_type": "code",
   "execution_count": 3,
   "metadata": {},
   "outputs": [],
   "source": [
    "### Here are some starting routines for the plots\n",
    "\n",
    "def gaussian(x, mu, sig):\n",
    "    '''\n",
    "    calculate a gaussian with mean mu and dispersion sig at input points x\n",
    "    '''\n",
    "    return np.exp( -0.5 * np.power( (x - mu)/sig, 2.)) / (np.sqrt(2*np.pi)*sig)\n",
    "\n",
    "def PlotTwoDist(xy1, xy2, label1, label2, size, addgauss=False, gxsig=False, gysig=False, connect=20): \n",
    "    '''\n",
    "    xy1, xy2: (x,y) points for the two distributions\n",
    "    label1, label2: labels for the two distributions\n",
    "    size: (float) half width of plot range\n",
    "    addgauss: (bool) True to overplot Gaussian on each histogram\n",
    "    gxsig, gysig: (float) sigma values for the two histograms\n",
    "    '''\n",
    "    bins = np.arange(-1.*size, size, 0.25)\n",
    "    fig = plt.figure(figsize=(8,8))\n",
    "    gs = GridSpec(4,4)\n",
    "    ax_scatter = fig.add_subplot(gs[1:4, 0:3])\n",
    "    ax_xhist = fig.add_subplot(gs[0,0:3])\n",
    "    ax_yhist = fig.add_subplot(gs[1:4, 3])\n",
    "    ax_scatter.scatter(xy1[0], xy1[1], color='k', s=1, label=label1)\n",
    "    ax_scatter.scatter(xy2[0], xy2[1], color='r', s=1, label=label2)\n",
    "    ax_scatter.plot(xy2[0][:connect], xy2[1][:connect], color='r', ls='-')\n",
    "    ax_xhist.hist(xy1[0], bins=bins, histtype='step', color='k', density=True)\n",
    "    ax_xhist.hist(xy2[0], bins=bins, histtype='step', color='r', density=True)\n",
    "    ax_yhist.hist(xy1[1], bins=bins, histtype='step', color='k', density=True, orientation='horizontal')\n",
    "    ax_yhist.hist(xy2[1], bins=bins, histtype='step', color='r', density=True, orientation='horizontal')\n",
    "\n",
    "    if addgauss and gxsig and gysig: \n",
    "        gg = np.linspace(-1*size, size, 100)\n",
    "        ggx = gaussian(gg, 0., gxsig)\n",
    "        ggy = gaussian(gg, 0., gysig)\n",
    "        ax_xhist.plot(gg, ggx)\n",
    "        ax_yhist.plot(ggy, gg)\n",
    "    \n",
    "    plt.setp(ax_xhist.get_xticklabels(), visible=False)\n",
    "    plt.setp(ax_xhist.get_yticklabels(), visible=False)\n",
    "    plt.setp(ax_yhist.get_xticklabels(), visible=False)\n",
    "    plt.setp(ax_yhist.get_yticklabels(), visible=False)\n",
    "    ax_scatter.set_xlabel(\"X\", fontsize=16)\n",
    "    ax_scatter.set_ylabel(\"Y\", fontsize=16)\n",
    "    ax_scatter.set_xlim(-8, 8)\n",
    "    ax_scatter.set_ylim(-8, 8)\n",
    "    ax_xhist.set_ylabel(\"N\", fontsize=16)\n",
    "    ax_yhist.set_xlabel(\"N\", fontsize=16)\n",
    "    ax_scatter.legend(frameon=False, fontsize=16)"
   ]
  },
  {
   "cell_type": "code",
   "execution_count": 4,
   "metadata": {},
   "outputs": [],
   "source": [
    "### Here is a start for the first part of the problem set\n",
    "\n",
    "# Generate bivariate Gaussian distributions following Ivezic et al. sections 3.5.2 and 3.5.4\n",
    "nelem = 5000\n",
    "seed = 12         # starting seed for random number generator\n",
    "\n",
    "# means and dispersions of initial Gaussians\n",
    "mux = 0\n",
    "muy = 0\n",
    "sig1 = 2\n",
    "sig2 = 0.5\n",
    "\n",
    "# Generate (p1, p2) with np.random.normal()\n",
    "np.random.seed(seed)\n",
    "p1 = sig1*np.random.normal(size=nelem)\n",
    "p2 = sig2*np.random.normal(size=nelem)\n",
    "\n",
    "# Compute (x, y) from (p1, p2) rotated by angle alpha\n",
    "alpha = np.pi/6\n",
    "cosa = np.cos(alpha)\n",
    "sina = np.sin(alpha)\n",
    "x = ...\n",
    "y = ...\n",
    "\n",
    "# Compute the expected values of the variances of x and y and the covariance xy\n",
    "# (See Ivezic et al. eqns 3.85 and 3.86)\n",
    "sigx2 = ...\n",
    "sigy2 = ...\n",
    "sigxy = ...\n",
    "\n",
    "# Use np.random.multivariate with the mean and expected covariance matrix\n",
    "# Ivezic et al. eqs. 3.85-3.87\n",
    "mu = ...\n",
    "cov = ...\n",
    "# print (\"Covariance Matrix = \", cov)\n",
    "# xy=np.random.multivariate_normal(mu,cov,size=nelem)"
   ]
  },
  {
   "cell_type": "markdown",
   "metadata": {},
   "source": [
    "## 2. MCMC realization of a 2-d probability distribution"
   ]
  },
  {
   "cell_type": "markdown",
   "metadata": {},
   "source": [
    "The probability distribution for the bivariate Gaussian distribution in Part 1 is:\n",
    "$$\n",
    "p(\\vec x) =  {1 \\over 2\\pi\\sqrt{{\\rm det}({\\bf C})}}\n",
    "  \\exp\\left(-{1\\over 2} \\vec x^T {\\bf H} \\vec x\\right),\n",
    "$$\n",
    "where $\\vec x=(x,y)$, ${\\bf C} = \\left({\\sigma_x^2 \\atop \\sigma_{xy}} {\\sigma_{xy} \\atop \\sigma_y^2}\\right)$, and ${\\bf H} = {\\bf C}^{-1}$.\n",
    "\n",
    "Implement a simple Markov Chain Monte Carlo (MCMC) routine:\n",
    "\n",
    "1. Start at a user-specified location $x_0,y_0$.\n",
    "\n",
    "2. At each iteration generate a trial point $(x_{i+1},y_{i+1})$ with\n",
    "$$\\eqalign{\n",
    "x_{i+1}&=x_i + h\\sigma_x {\\cal N}(0,1)  \\cr\n",
    "y_{i+1}&=y_i + h\\sigma_y {\\cal N}(0,1)  \\cr\n",
    "}\n",
    "$$\n",
    "where ${\\cal N}(0,1)$ is a Gaussian random variable of zero mean and unit dispersion (chosen separately for $x$ and $y$) and $h$ is a user-specified scaling of step size.\n",
    "\n",
    "3. If $p(x_{i+1},y_{i+1}) > p(x_i,y_i)$ accept the step, i.e., add the new pair to the chain and take your next trial step from this new position.\n",
    "\n",
    "4. If $p(x_{i+1},y_{i+1}) < p(x_i,y_i)$ then accept the step with probability $p(x_{i+1},y_{i+1})/p(x_i,y_i)$ (draw a uniform random deviate and compare it to this ratio).  If the step is not accepted, add the previous point ($x_i, y_i$) to the chain and generate a new trial point.\n",
    "\n",
    "5. Output the final distribution of the chain.  Also keep track of and report the fraction of trial steps that are accepted, i.e., the ratio of the final length of the chain to the total number of steps needed to produce it."
   ]
  },
  {
   "cell_type": "code",
   "execution_count": 5,
   "metadata": {},
   "outputs": [],
   "source": [
    "# Starting point\n",
    "\n",
    "# DHW mc2d.py, modified for notebook \n",
    "\n",
    "def MultiGaussProb(x,cinv,prefac):\n",
    "    '''\n",
    "    Return multivariate Gaussian probability\n",
    "    x: vector of data values(matrix)\n",
    "    cinv: inverse covariance matrix\n",
    "    prefac:  prefactor for properly normalized Gaussian (float),\n",
    "             taken as input so that it isn't computed every call\n",
    "             should be [(2\\pi)^{M/2} \\sqrt{det(C)}]^{-1}\n",
    "    '''\n",
    "    arg = float(x * cinv * x.T)\n",
    "    return (prefac * np.exp(-arg/2.))\n",
    "\n",
    "def mcmc(xy_start, xy_step, nchain, nthin, seed, sig1=2, sig2=0.5):\n",
    "    '''\n",
    "    xy_start: [xstart, ystart]\n",
    "    xy_step: [xstep, ystep]\n",
    "    nchain: output chain length (after thinning)\n",
    "    nthin: thinning factor\n",
    "    '''\n",
    "    np.random.random(seed)\n",
    "    \n",
    "    # generate a chain nthin times longer than the final chain\n",
    "    nchain = nthin * nchain    \n",
    "    chain=np.zeros((nchain,3))    # store (x,y,p) as elements of chain\n",
    "    \n",
    "    mux = 0\n",
    "    muy = 0\n",
    "    alpha= np.pi/6\n",
    "    cosa = np.cos(alpha)\n",
    "    sina = np.sin(alpha)\n",
    "    \n",
    "    '''\n",
    "    your code here\n",
    "    '''\n",
    "    \n",
    "    # Output the chain 'thinned' by the factor nthin\n",
    "    return chain[::nthin]"
   ]
  },
  {
   "cell_type": "markdown",
   "metadata": {},
   "source": [
    "### 2.1 Use this program to generate a 5000-element chain starting from $(x,y)=(1,1)$ with step scaling $h=1$.  \n",
    "\n",
    "Plot the distribution of points from this chain, and the corresponding marginal distributions, over the bivariate Gaussian distribution from Part 1. If your programs are working, you should get good agreement."
   ]
  },
  {
   "cell_type": "code",
   "execution_count": 6,
   "metadata": {},
   "outputs": [],
   "source": [
    "### Answer\n",
    "\n",
    "xy_start = np.array([1.,1.])\n",
    "xy_step = np.array([1.,1.])\n",
    "# chain1 = mcmc(xy_start, xy_step, 5000, 1, 12)\n",
    "\n",
    "# Illustration of how to use PlotTwoDist() -- \n",
    "# PlotTwoDist(xy.T, chain1.T, \"Gaussian\", \"MCMC\", 8, connect=20)"
   ]
  },
  {
   "cell_type": "markdown",
   "metadata": {},
   "source": [
    "### 2.2 Try several different starting points and compare the results. You can just describe this comparison in words. "
   ]
  },
  {
   "cell_type": "code",
   "execution_count": 7,
   "metadata": {},
   "outputs": [],
   "source": [
    "### Answer "
   ]
  },
  {
   "cell_type": "markdown",
   "metadata": {},
   "source": [
    "### 2.2 Change h from 1 to 0.1 and plot the results. Compare the distribution to that for h = 1, and comment on the fraction of steps that are accepted."
   ]
  },
  {
   "cell_type": "code",
   "execution_count": 8,
   "metadata": {},
   "outputs": [],
   "source": [
    "### Answer "
   ]
  },
  {
   "cell_type": "markdown",
   "metadata": {},
   "source": [
    "### 2.3 Change h from 1 to 2.5. Compare the distribution to that for h = 1 (with a plot), and compare the fraction of steps that are accepted."
   ]
  },
  {
   "cell_type": "code",
   "execution_count": 9,
   "metadata": {},
   "outputs": [],
   "source": [
    "### Answer "
   ]
  },
  {
   "cell_type": "markdown",
   "metadata": {},
   "source": [
    "### 2.4 Change $\\sigma_2$ from 0.5 to 0.1. Compare to your previous results for h = 1."
   ]
  },
  {
   "cell_type": "code",
   "execution_count": 10,
   "metadata": {},
   "outputs": [],
   "source": [
    "### Answer "
   ]
  },
  {
   "cell_type": "markdown",
   "metadata": {},
   "source": [
    "### 2.5 Comment on issues of efficiency and accuracy in MCMC computations and strategies that could improve the efficiency for the $\\sigma_2 = 0.1$ case."
   ]
  },
  {
   "cell_type": "markdown",
   "metadata": {},
   "source": [
    "### Answer"
   ]
  },
  {
   "cell_type": "markdown",
   "metadata": {},
   "source": [
    "# 3. Cosmic MCMC: Parameters of the Universe\n",
    "\n",
    "$\\newcommand{\\hubunits}{\\,\\hbox{km s$^{-1}$ Mpc$^{-1}$}}$\n",
    "\n",
    "Here we will do a simplified version of the statistical analysis in Aubourg et al. (2015).\n",
    "\n",
    "You may again use cosmodist_subs.py or astropy. If you used cosmodist_subs.py, use the (new) routine comsmodisth(), which returns different quantities than cosmodist(). In the latter case, I recommend adopting a tolerance of $3\\times 10^{-5}$, which is adequate given the uncertainties of our observational constraints, and your code will evaluate this integral many times. \n",
    "\n",
    "This time, we will use its ability to compute distances for $\\Omega_k \\neq 0$  and $w=-1$.  Refer back to PS 3 for the relevant equations. \n",
    "\n",
    "As the cosmological constraints, take the following (the first two are from the CMB, and others are from BAO measurements):\n",
    "\n",
    "$\\Omega_m h^2 = 0.1386 \\pm 0.0027.$\n",
    "\n",
    "$D_M(z=1090) = 13962 \\pm 10$ Mpc.\n",
    "\n",
    "$D_M(z=2.34) = 5381 \\pm 170$ Mpc.\n",
    "\n",
    "$H(z=2.34) = 222 \\pm 5 \\hubunits.$\n",
    "\n",
    "$D_M(z=0.57) = 2204 \\pm 31$ Mpc.\n",
    "\n",
    "$H(z=0.57) = 98 \\pm 3 \\hubunits.$\n",
    "\n",
    "$D_M(z=0.32) = 1249 \\pm 25$ Mpc.\n",
    "\n",
    "Compute the likelihood of the data for a given set of cosmological parameters as $L \\propto e^{-\\chi^2/2}$, where $\\chi^2$ is computed from the above data values ignoring any error covariances (i.e., $\\chi^2 = \\sum (y_i-y_{{\\rm mod},i})^2/\\sigma_i^2$). \n",
    "\n",
    "Adapt your MCMC code to create a chain for cosmological parameter values. You should set it up to allow steps in 4 parameters: $\\Omega_m$, $h$, $w$, and $\\Omega_k$. \n",
    "\n",
    "I recommend you write it to take as input a set of starting values (e.g. a dictionary called 'startvals') and a set of step sizes (e.g. a dictionary called 'stepvals'), and set the stepsize equal to zero for any parameter that should be held fixed. You should also use $e^{-\\Delta\\chi^2/2}$ to compute the ratio of the probabilities."
   ]
  },
  {
   "cell_type": "code",
   "execution_count": 11,
   "metadata": {},
   "outputs": [
    {
     "name": "stdout",
     "output_type": "stream",
     "text": [
      "Timing of cs.cosmodisth()\n",
      "2.84 ms ± 26.8 µs per loop (mean ± std. dev. of 7 runs, 100 loops each)\n",
      "cs.cosmodisth() = 13615.917774798161 22594.79521294432\n",
      "Timing of astropy.cosmology.FlatLambdaCDM\n",
      "436 µs ± 1.13 µs per loop (mean ± std. dev. of 7 runs, 1000 loops each)\n",
      "astropy output = 13615.922648878024 22594.96028133528\n",
      "Note the significant speed up with astropy!\n"
     ]
    }
   ],
   "source": [
    "h0 = 70. \n",
    "om = 0.3\n",
    "ok = 0. \n",
    "w = -1\n",
    "zrec = 1090.\n",
    "tcmb = 2.726\n",
    "\n",
    "# Illustration of the use of cosmodist_subs -- \n",
    "\n",
    "import cosmodist_subs as cs\n",
    "\n",
    "print(\"Timing of cs.cosmodisth()\")\n",
    "%timeit  cs.cosmodisth(1090, h0, om, ok, w)\n",
    "\n",
    "[dmrec, hzrec] = cs.cosmodisth(1090, h0, om, ok, w)\n",
    "print(\"cs.cosmodisth() =\", dmrec, hzrec)\n",
    "\n",
    "# Illustration of the use of astropy -- \n",
    "\n",
    "from astropy.cosmology import FlatLambdaCDM\n",
    "\n",
    "cosmo = FlatLambdaCDM(H0=h0, Om0=om, Tcmb0=tcmb)\n",
    "\n",
    "print(\"Timing of astropy.cosmology.FlatLambdaCDM\")\n",
    "%timeit FlatLambdaCDM(H0=h0, Om0=om, Tcmb0=tcmb), cosmo.comoving_distance(zrec).value, cosmo.H(zrec).value/h0\n",
    "\n",
    "print(\"astropy output =\", cosmo.comoving_distance(zrec).value, cosmo.H(zrec).value/h0)\n",
    "\n",
    "print(\"Note the significant speed up with astropy!\")"
   ]
  },
  {
   "cell_type": "code",
   "execution_count": 12,
   "metadata": {},
   "outputs": [],
   "source": [
    "# Starter code\n",
    "\n",
    "# DHW cosmomc.py modified for notebook\n",
    "def prob(model,data,errors):\n",
    "    \"\"\"\n",
    "    Return e^{-chi^2/2}, for diagonal covariance matrix\n",
    "    model = vector of model predictions\n",
    "    data = vector of data values\n",
    "    errors = vector of errors on data\n",
    "    \"\"\"\n",
    "    dev = (model - data)/errors\n",
    "    return (np.exp(-1.*sum(dev**2)/2.))\n",
    "\n",
    "def modelvals(om,h,w,ok,astropy=True):\n",
    "    \"\"\"\n",
    "    Return vector of the model predicted data values\n",
    "    \"\"\"\n",
    "    omhsqr=om*(h**2)\n",
    "    h0=100.*h                                   # value in km/s/Mpc\n",
    "    if astropy: \n",
    "        cosmo = FlatLambdaCDM(H0=h0, Om0=om, Tcmb0=tcmb)\n",
    "        [dmzrec,hzrec] = cosmo.comoving_distance(zrec).value, cosmo.H(zrec).value/h0\n",
    "        [dmz234,hz234] = cosmo.comoving_distance(2.34).value, cosmo.H(2.34).value/h0\n",
    "        [dmz057,hz057] = cosmo.comoving_distance(0.57).value, cosmo.H(0.57).value/h0\n",
    "        [dmz032,hz032] = cosmo.comoving_distance(0.32).value, cosmo.H(0.32).value/h0       \n",
    "    else: \n",
    "        [dmzrec,hzrec] = cs.cosmodisth(1090, h0, om, ok, w)\n",
    "        [dmz234,hz234] = cs.cosmodisth(2.34, h0, om, ok, w)\n",
    "        [dmz057,hz057] = cs.cosmodisth(0.57, h0, om, ok, w)\n",
    "        [dmz032,hz032] = cs.cosmodisth(0.32, h0, om, ok, w)\n",
    "\n",
    "    return (np.array([omhsqr,dmzrec,dmz234,hz234*h0,dmz057,hz057*h0,dmz032]))\n",
    "\n",
    "def cosmomcmc(startvals, stepvals, nchain, nthin, seed, astropy=True):\n",
    "    \n",
    "    omstart = startvals['omega_m']\n",
    "    hstart = startvals['H0']\n",
    "    okstart = startvals['omega_k']\n",
    "    wstart = startvals['w']\n",
    "    \n",
    "    omstep = stepvals['omega_m']\n",
    "    hstep = stepvals['H0']\n",
    "    okstep = stepvals['omega_k']\n",
    "    wstep = stepvals['w']\n",
    "    \n",
    "    np.random.seed(seed)\n",
    "\n",
    "    nchain = nchain * nthin     # number of elements needed for nchain outputs\n",
    "    \n",
    "    # data values and errors being used\n",
    "    omhsqr=0.1386\n",
    "    omhsqrerr=0.0027\n",
    "    dmzrec=13962\n",
    "    dmzrecerr=10\n",
    "    dmz234=5381\n",
    "    dmz234err=170\n",
    "    hz234=222\n",
    "    hz234err=5\n",
    "    dmz057=2204\n",
    "    dmz057err=31\n",
    "    hz057=98\n",
    "    hz057err=3\n",
    "    dmz032=1249\n",
    "    dmz032err=25\n",
    "\n",
    "    data = np.array([omhsqr,dmzrec,dmz234,hz234,dmz057,hz057,dmz032])\n",
    "    errors = np.array([omhsqrerr,dmzrecerr,dmz234err,hz234err,dmz057err,hz057err,dmz032err])\n",
    "\n",
    "    # We are going to save all elements of the chain in memory to make\n",
    "    # the i/o more efficient (one np.savetxt at the end), but if memory\n",
    "    # were an issue we could write out steps one at a time (or in chunks)\n",
    "    chain = np.zeros((nchain,5))\n",
    "    chain[0][0] = om1 = omstart\n",
    "    chain[0][1] = h1 = hstart\n",
    "    chain[0][2] = w1 = wstart\n",
    "    chain[0][3] = ok1 = okstart\n",
    "\n",
    "    '''\n",
    "    Your code here\n",
    "    '''"
   ]
  },
  {
   "cell_type": "markdown",
   "metadata": {},
   "source": [
    "### 3.1 Flat Universe\n",
    "\n",
    "First consider a flat universe, with $\\Omega_k=0$, but allowing free $w$. Create a 3-d MCMC chain using the parameters $\\Omega_m$, $h$, and $w$, where $h \\equiv H_0/100\\hubunits$. Use your 4-d code but set the step size in the $\\Omega_k$ dimension to zero. For a starting point I suggest $\\Omega_m=0.3$, $h=0.68$, $w=-1$, and for initial step sizes I suggest trying $\\Delta = 0.03$ in each parameter. \n",
    "\n",
    "I recommend you use a small (e.g. 2000) number of points for debugging and then a larger number (10-50k) when you are ready to make your final plot. \n",
    "\n",
    "Note that $\\Delta$ here refers to the actual steps in $\\Omega_m$, $h$, and $w$, and I have chosen it because I know\n",
    "that these data give parameter errors that are roughly in this ballpark. Do not further multiply 0.03 by the expected standard deviations of these parameters --- that would be like taking $h=0.03$ in Part 2, and you already saw (I hope) that $h=0.1$ leads to chains that don't explore the likelihood surface very well.  I warn you in advance that with $\\Delta = 0.03$ your acceptance fraction in the MCMC will be low ($\\sim 1\\%$), but if you take a much smaller step then you will not get good likelihood sampling.\n",
    "\n",
    "Plot the distribution of your points in the planes $w$ vs. $\\Omega_m$, $w$ vs. $h$, and $\\Omega_m$ vs. $h$ with [corner.py](https://corner.readthedocs.io/en/latest/).\n",
    "\n",
    "For reference, you may want to look at Figure 8 of Aubourg et al. (the $w$CDM panel for 3.1 and the o$\\Lambda$CDM panel for 3.2), but you shouldn't expect to get exactly the same results. The main simplifications are that you are not including covariances of the errors and that I have converted the BAO measurements to absolute units using the best-fit value of the sound horizon $r_d$, which is well known (to 0.4\\%) but not perfectly known; a full calculation would consider its dependence on cosmological parameters."
   ]
  },
  {
   "cell_type": "code",
   "execution_count": 13,
   "metadata": {},
   "outputs": [],
   "source": [
    "startvals = dict()\n",
    "startvals['omega_m'] = 0.3\n",
    "startvals['H0'] = 0.68\n",
    "startvals['omega_k'] = 0.\n",
    "startvals['w'] = -1.\n",
    "\n",
    "stepvals = dict()\n",
    "stepvals['omega_m'] = 0.03\n",
    "stepvals['H0'] = 0.03\n",
    "stepvals['omega_k'] = 0.0 # hold fixed\n",
    "stepvals['w'] = 0.03\n",
    "\n",
    "# c_chain31 = cosmomcmc(startvals, stepvals, nchain=4000, nthin=1, seed=12, astropy=True)\n",
    "# c_chain31 = cosmomcmc(startvals, stepvals, nchain=5000, nthin=50, seed=12, astropy=True)"
   ]
  },
  {
   "cell_type": "code",
   "execution_count": 14,
   "metadata": {},
   "outputs": [],
   "source": [
    "# Create the corner plot\n",
    "\n",
    "# Illustration of how to use corner()\n",
    "# corner_input31 = c_chain31.T[0:3].T\n",
    "# figure = corner.corner(corner_input31, labels=[r\"$\\Omega_m$\", r\"$h$\", r\"$w$\"],\n",
    "#                      quantiles=[0.5], \n",
    "#                      show_titles=True, title_kwargs={\"fontsize\": 14}, title_fmt='.2f',\n",
    "#                      label_kwargs={\"fontsize\": 14},\n",
    "#                      hist2d_kwargs={\"plot_contours\": False, \"plot_density\": False}\n",
    "#                      )"
   ]
  },
  {
   "cell_type": "markdown",
   "metadata": {},
   "source": [
    "### 3.2 Lambda Universe\n",
    "\n",
    "Now consider a universe, with $w=-1$ and free $\\Omega_k$. Create a 2000-point, 3-d MCMC using the parameters \n",
    "$\\Omega_m$, $h$, and $\\Omega_k$. (Set the step size in the $w$ dimension to zero.) I suggest you start with $\\Omega_m=0.3$, $h=0.68$, $\\Omega_k=0$, and for initial step sizes I suggest trying $\\Delta = 0.03$ in the first two parameters and $\\Delta = 0.003$ in $\\Omega_k$.\n",
    "\n",
    "Plot the distribution of your points in the planes $\\Omega_k$ vs. $\\Omega_m$, $\\Omega_k$ vs. $h$, and $\\Omega_m$ vs. $h$ with the corner module."
   ]
  },
  {
   "cell_type": "code",
   "execution_count": 15,
   "metadata": {},
   "outputs": [],
   "source": [
    "### Answer "
   ]
  }
 ],
 "metadata": {
  "kernelspec": {
   "display_name": "Python 3.7-2019.10 [python/3.7-2019.10]",
   "language": "python",
   "name": "sys_python37_2019_10"
  },
  "language_info": {
   "codemirror_mode": {
    "name": "ipython",
    "version": 3
   },
   "file_extension": ".py",
   "mimetype": "text/x-python",
   "name": "python",
   "nbconvert_exporter": "python",
   "pygments_lexer": "ipython3",
   "version": "3.7.4"
  }
 },
 "nbformat": 4,
 "nbformat_minor": 4
}
